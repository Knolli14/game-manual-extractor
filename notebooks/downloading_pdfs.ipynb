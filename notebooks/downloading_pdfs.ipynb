{
 "cells": [
  {
   "cell_type": "code",
   "execution_count": 19,
   "metadata": {},
   "outputs": [
    {
     "name": "stdout",
     "output_type": "stream",
     "text": [
      "The autoreload extension is already loaded. To reload it, use:\n",
      "  %reload_ext autoreload\n"
     ]
    }
   ],
   "source": [
    "%load_ext autoreload\n",
    "%autoreload 2"
   ]
  },
  {
   "cell_type": "markdown",
   "metadata": {},
   "source": [
    "# Download the PDFs\n",
    "This package uses an endpoint from [en.1jour-1jeu](https://en.1jour-1jeu.com) to collect board game manuals."
   ]
  },
  {
   "cell_type": "code",
   "execution_count": 28,
   "metadata": {},
   "outputs": [],
   "source": [
    "# Import the necessary libraries\n",
    "from src.extractor import Extractor\n",
    "from src.game_info import GameInfo"
   ]
  },
  {
   "cell_type": "markdown",
   "metadata": {},
   "source": [
    "### First time "
   ]
  },
  {
   "cell_type": "code",
   "execution_count": 31,
   "metadata": {},
   "outputs": [],
   "source": [
    "# We initialize the Extractor object\n",
    "extractor = Extractor()"
   ]
  },
  {
   "cell_type": "code",
   "execution_count": null,
   "metadata": {},
   "outputs": [
    {
     "name": "stdout",
     "output_type": "stream",
     "text": [
      "-> Extracting games from page 1\n",
      "Extracted kingdomino\n",
      "Extracted battle sheep\n",
      "Extracted dr eureka\n",
      "Extracted codenames\n",
      "Extracted when i dream\n",
      "Extracted unlock escape adventures\n",
      "Extracted terraforming mars\n",
      "Extracted 7 wonders duel\n",
      "Extracted exploding kittens\n",
      "Extracted this war of mine the board game\n",
      "Extracted queendomino\n",
      "Extracted 7 wonders\n",
      "-> Finished extracting games from page 1\n",
      "------------------------------\n",
      "-> Extracting games from page 2\n",
      "Extracted zombicide\n",
      "Extracted clank a deck building adventure\n",
      "Extracted 7 wonders duel pantheon\n",
      "Extracted scythe strateges des cieux\n",
      "Extracted forbidden stars\n",
      "Extracted 7 wonders leaders\n",
      "Extracted 7 wonders cities anniversary pack\n",
      "Extracted 7 wonders leaders anniversary pack\n",
      "-> Finished extracting games from page 2\n",
      "------------------------------\n",
      "Successfully extracted 309 games\n",
      "GameInfos saved internally: 309\n"
     ]
    }
   ],
   "source": [
    "# The extractor will query each search result page for an empty title\n",
    "# and extracts title and link to manual from each game\n",
    "extractor.get_all_game_infos(2)\n",
    "\n",
    "print(\"GameInfos saved internally:\", len(extractor.games_list))"
   ]
  },
  {
   "cell_type": "markdown",
   "metadata": {},
   "source": [
    ">We can also reassign to extractor"
   ]
  },
  {
   "cell_type": "code",
   "execution_count": 40,
   "metadata": {},
   "outputs": [
    {
     "name": "stdout",
     "output_type": "stream",
     "text": [
      "-> Extracting games from page 1\n",
      "Extracted kingdomino\n",
      "Extracted battle sheep\n",
      "Extracted dr eureka\n",
      "Extracted codenames\n",
      "Extracted when i dream\n",
      "Extracted unlock escape adventures\n",
      "Extracted terraforming mars\n",
      "Extracted 7 wonders duel\n",
      "Extracted exploding kittens\n",
      "Extracted this war of mine the board game\n",
      "Extracted queendomino\n",
      "Extracted 7 wonders\n",
      "-> Finished extracting games from page 1\n",
      "------------------------------\n",
      "Successfully extracted 12 games\n"
     ]
    }
   ],
   "source": [
    "ex_direct = Extractor().get_all_game_infos(1)"
   ]
  },
  {
   "cell_type": "markdown",
   "metadata": {},
   "source": [
    "Metadata will be saved as GameInfo dataclass containing:\n",
    "* `link` to manual\n",
    "* `title` of the board game\n",
    "* `language` of the manual"
   ]
  },
  {
   "cell_type": "code",
   "execution_count": 41,
   "metadata": {},
   "outputs": [
    {
     "data": {
      "text/plain": [
       "GameInfo(link='https://cdn.1j1ju.com/medias/22/d4/b3-kingdomino-regle.pdf', title='kingdomino', language='english')"
      ]
     },
     "execution_count": 41,
     "metadata": {},
     "output_type": "execute_result"
    }
   ],
   "source": [
    "extractor.games_list[0]"
   ]
  },
  {
   "cell_type": "markdown",
   "metadata": {},
   "source": [
    "We can save the games list as a json "
   ]
  },
  {
   "cell_type": "code",
   "execution_count": 42,
   "metadata": {},
   "outputs": [
    {
     "name": "stdout",
     "output_type": "stream",
     "text": [
      "Saving Games List to /home/knolli/code/Knolli14/game-manual-extractor/data/first_two_pages.json\n",
      "Successfully saved Games List\n"
     ]
    }
   ],
   "source": [
    "# path can be configured in config.py\n",
    "extractor.save_games_list(file_name=\"first_two_pages\")"
   ]
  },
  {
   "cell_type": "code",
   "execution_count": null,
   "metadata": {},
   "outputs": [],
   "source": []
  }
 ],
 "metadata": {
  "kernelspec": {
   "display_name": "html-extract",
   "language": "python",
   "name": "python3"
  },
  "language_info": {
   "codemirror_mode": {
    "name": "ipython",
    "version": 3
   },
   "file_extension": ".py",
   "mimetype": "text/x-python",
   "name": "python",
   "nbconvert_exporter": "python",
   "pygments_lexer": "ipython3",
   "version": "3.12.7"
  }
 },
 "nbformat": 4,
 "nbformat_minor": 2
}
