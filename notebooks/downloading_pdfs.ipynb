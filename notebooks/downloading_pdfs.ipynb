{
 "cells": [
  {
   "cell_type": "code",
   "execution_count": 2,
   "metadata": {},
   "outputs": [],
   "source": [
    "%load_ext autoreload\n",
    "%autoreload 2"
   ]
  },
  {
   "cell_type": "markdown",
   "metadata": {},
   "source": [
    "# Download the PDFs\n",
    "This package uses an endpoint from [en.1jour-1jeu](https://en.1jour-1jeu.com) to collect board game manuals."
   ]
  },
  {
   "cell_type": "code",
   "execution_count": 4,
   "metadata": {},
   "outputs": [],
   "source": [
    "# Import the necessary libraries\n",
    "from src.data_extraction.extractor import Extractor"
   ]
  },
  {
   "cell_type": "markdown",
   "metadata": {},
   "source": [
    "### First time "
   ]
  },
  {
   "cell_type": "code",
   "execution_count": 31,
   "metadata": {},
   "outputs": [],
   "source": [
    "# first we initialize the Extractor object\n",
    "extractor = Extractor()"
   ]
  },
  {
   "cell_type": "code",
   "execution_count": null,
   "metadata": {},
   "outputs": [
    {
     "name": "stdout",
     "output_type": "stream",
     "text": [
      "-> Extracting games from page 1\n",
      "Extracted kingdomino\n",
      "Extracted battle sheep\n",
      "Extracted dr eureka\n",
      "Extracted codenames\n",
      "Extracted when i dream\n",
      "Extracted unlock escape adventures\n",
      "Extracted terraforming mars\n",
      "Extracted 7 wonders duel\n",
      "Extracted exploding kittens\n",
      "Extracted this war of mine the board game\n",
      "Extracted queendomino\n",
      "Extracted 7 wonders\n",
      "-> Finished extracting games from page 1\n",
      "------------------------------\n",
      "-> Extracting games from page 2\n",
      "Extracted zombicide\n",
      "Extracted clank a deck building adventure\n",
      "Extracted 7 wonders duel pantheon\n",
      "Extracted scythe strateges des cieux\n",
      "Extracted forbidden stars\n",
      "Extracted 7 wonders leaders\n",
      "Extracted 7 wonders cities anniversary pack\n",
      "Extracted 7 wonders leaders anniversary pack\n",
      "-> Finished extracting games from page 2\n",
      "------------------------------\n",
      "Successfully extracted 309 games\n",
      "GameInfos saved internally: 309\n"
     ]
    }
   ],
   "source": [
    "# The extractor will query each search result page for an empty title search\n",
    "# and extracts title and link to manual from each game\n",
    "extractor.get_all_game_infos(last_page_number=2)\n",
    "\n",
    "print(\"GameInfos saved internally:\", len(extractor.games_list))"
   ]
  },
  {
   "cell_type": "markdown",
   "metadata": {},
   "source": [
    "We can also reassign to extractor"
   ]
  },
  {
   "cell_type": "code",
   "execution_count": null,
   "metadata": {},
   "outputs": [
    {
     "name": "stdout",
     "output_type": "stream",
     "text": [
      "-> Extracting games from page 1\n",
      "Extracted kingdomino\n",
      "Extracted battle sheep\n",
      "Extracted dr eureka\n",
      "Extracted codenames\n",
      "Extracted when i dream\n",
      "Extracted unlock escape adventures\n",
      "Extracted terraforming mars\n",
      "Extracted 7 wonders duel\n",
      "Extracted exploding kittens\n",
      "Extracted this war of mine the board game\n",
      "Extracted queendomino\n",
      "Extracted 7 wonders\n",
      "-> Finished extracting games from page 1\n",
      "------------------------------\n",
      "Successfully extracted 12 games\n"
     ]
    }
   ],
   "source": [
    "ex_direct = Extractor().get_all_game_infos(last_page_number=1)"
   ]
  },
  {
   "cell_type": "markdown",
   "metadata": {},
   "source": [
    "Metadata will be saved as GameInfo dataclass containing:\n",
    "* `link` to manual\n",
    "* `title` of the board game\n",
    "* `language` of the manual"
   ]
  },
  {
   "cell_type": "code",
   "execution_count": 41,
   "metadata": {},
   "outputs": [
    {
     "data": {
      "text/plain": [
       "GameInfo(link='https://cdn.1j1ju.com/medias/22/d4/b3-kingdomino-regle.pdf', title='kingdomino', language='english')"
      ]
     },
     "execution_count": 41,
     "metadata": {},
     "output_type": "execute_result"
    }
   ],
   "source": [
    "extractor.games_list[0]"
   ]
  },
  {
   "cell_type": "markdown",
   "metadata": {},
   "source": [
    "We can __save__ the games list as a json "
   ]
  },
  {
   "cell_type": "code",
   "execution_count": 42,
   "metadata": {},
   "outputs": [
    {
     "name": "stdout",
     "output_type": "stream",
     "text": [
      "Saving Games List to /home/knolli/code/Knolli14/game-manual-extractor/data/first_two_pages.json\n",
      "Successfully saved Games List\n"
     ]
    }
   ],
   "source": [
    "# path can be configured in config.py\n",
    "extractor.save_games_list(file_name=\"first_two_pages\")"
   ]
  },
  {
   "cell_type": "markdown",
   "metadata": {},
   "source": [
    "using `Extractor().download_manual()` to dl specific game "
   ]
  },
  {
   "cell_type": "code",
   "execution_count": null,
   "metadata": {},
   "outputs": [
    {
     "name": "stdout",
     "output_type": "stream",
     "text": [
      "queendomino, in (english)\n"
     ]
    }
   ],
   "source": [
    "# extract game from internal list\n",
    "game = extractor.games_list[10]\n",
    "print(game)"
   ]
  },
  {
   "cell_type": "code",
   "execution_count": 48,
   "metadata": {},
   "outputs": [
    {
     "data": {
      "text/plain": [
       "('Title: queendomino',\n",
       " 'Link: https://cdn.1j1ju.com/medias/56/5a/f3-queendomino-regle.pdf',\n",
       " 'Language: English')"
      ]
     },
     "execution_count": 48,
     "metadata": {},
     "output_type": "execute_result"
    }
   ],
   "source": [
    "# or use this method for all infos\n",
    "game._display_info()"
   ]
  },
  {
   "cell_type": "code",
   "execution_count": 53,
   "metadata": {},
   "outputs": [
    {
     "name": "stdout",
     "output_type": "stream",
     "text": [
      "Downloading queendomino\n",
      "Successfully downloaded to /home/knolli/code/Knolli14/game-manual-extractor/data/pdf/queendomino.pdf\n",
      "Successfully downloaded queendomino\n"
     ]
    }
   ],
   "source": [
    "extractor.download_manual(game)"
   ]
  },
  {
   "cell_type": "markdown",
   "metadata": {},
   "source": [
    "We can __download all__ manuals at once using `src.main`"
   ]
  },
  {
   "cell_type": "code",
   "execution_count": 59,
   "metadata": {},
   "outputs": [
    {
     "name": "stdout",
     "output_type": "stream",
     "text": [
      "-> Extracting games from page 1\n",
      "Extracted kingdomino\n",
      "Extracted battle sheep\n",
      "Extracted dr eureka\n",
      "Extracted codenames\n",
      "Extracted when i dream\n",
      "Extracted unlock escape adventures\n",
      "Extracted terraforming mars\n",
      "Extracted 7 wonders duel\n",
      "Extracted exploding kittens\n",
      "Extracted this war of mine the board game\n",
      "Extracted queendomino\n",
      "Extracted 7 wonders\n",
      "-> Finished extracting games from page 1\n",
      "------------------------------\n",
      "Successfully extracted 12 games\n",
      "\n",
      "Downloading kingdomino\n",
      "-> Successfully downloaded to /home/knolli/code/Knolli14/game-manual-extractor/data/pdf/kingdomino.pdf\n",
      "\n",
      "Downloading battle sheep\n",
      "-> Successfully downloaded to /home/knolli/code/Knolli14/game-manual-extractor/data/pdf/battle sheep.pdf\n",
      "\n",
      "Downloading dr eureka\n",
      "-> Successfully downloaded to /home/knolli/code/Knolli14/game-manual-extractor/data/pdf/dr eureka.pdf\n",
      "\n",
      "Downloading codenames\n",
      "-> Successfully downloaded to /home/knolli/code/Knolli14/game-manual-extractor/data/pdf/codenames.pdf\n",
      "\n",
      "Downloading when i dream\n",
      "-> Successfully downloaded to /home/knolli/code/Knolli14/game-manual-extractor/data/pdf/when i dream.pdf\n",
      "\n",
      "Downloading unlock escape adventures\n",
      "-> Successfully downloaded to /home/knolli/code/Knolli14/game-manual-extractor/data/pdf/unlock escape adventures.pdf\n",
      "\n",
      "Downloading terraforming mars\n",
      "-> Successfully downloaded to /home/knolli/code/Knolli14/game-manual-extractor/data/pdf/terraforming mars.pdf\n",
      "\n",
      "Downloading 7 wonders duel\n",
      "-> Successfully downloaded to /home/knolli/code/Knolli14/game-manual-extractor/data/pdf/7 wonders duel.pdf\n",
      "\n",
      "Downloading exploding kittens\n",
      "-> Successfully downloaded to /home/knolli/code/Knolli14/game-manual-extractor/data/pdf/exploding kittens.pdf\n",
      "\n",
      "Downloading this war of mine the board game\n",
      "-> Successfully downloaded to /home/knolli/code/Knolli14/game-manual-extractor/data/pdf/this war of mine the board game.pdf\n",
      "\n",
      "Downloading queendomino\n",
      "-> Successfully downloaded to /home/knolli/code/Knolli14/game-manual-extractor/data/pdf/queendomino.pdf\n",
      "\n",
      "Downloading 7 wonders\n",
      "-> Successfully downloaded to /home/knolli/code/Knolli14/game-manual-extractor/data/pdf/7 wonders.pdf\n",
      "\n",
      " ---------- Finished downloading all manuals ----------\n"
     ]
    }
   ],
   "source": [
    "!python main.py"
   ]
  },
  {
   "cell_type": "markdown",
   "metadata": {},
   "source": [
    "### Initialize from a saved json file"
   ]
  },
  {
   "cell_type": "code",
   "execution_count": 2,
   "metadata": {},
   "outputs": [
    {
     "name": "stdout",
     "output_type": "stream",
     "text": [
      "Loading Games List from /home/knolli/code/Knolli14/game-manual-extractor/data/first_two_pages.json\n",
      "Successfully loaded Games List into Extractor\n"
     ]
    }
   ],
   "source": [
    "filename = 'first_two_pages'\n",
    "ex_json = Extractor.from_json(filename)"
   ]
  },
  {
   "cell_type": "code",
   "execution_count": 3,
   "metadata": {},
   "outputs": [
    {
     "data": {
      "text/plain": [
       "309"
      ]
     },
     "execution_count": 3,
     "metadata": {},
     "output_type": "execute_result"
    }
   ],
   "source": [
    "len(ex_json.games_list)"
   ]
  }
 ],
 "metadata": {
  "kernelspec": {
   "display_name": "html-extract",
   "language": "python",
   "name": "python3"
  },
  "language_info": {
   "codemirror_mode": {
    "name": "ipython",
    "version": 3
   },
   "file_extension": ".py",
   "mimetype": "text/x-python",
   "name": "python",
   "nbconvert_exporter": "python",
   "pygments_lexer": "ipython3",
   "version": "3.12.7"
  }
 },
 "nbformat": 4,
 "nbformat_minor": 2
}
